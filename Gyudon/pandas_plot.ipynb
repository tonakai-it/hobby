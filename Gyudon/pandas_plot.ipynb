{
 "cells": [
  {
   "cell_type": "code",
   "execution_count": 32,
   "id": "mediterranean-hormone",
   "metadata": {},
   "outputs": [],
   "source": [
    "import pandas as pd"
   ]
  },
  {
   "cell_type": "code",
   "execution_count": 33,
   "id": "determined-block",
   "metadata": {},
   "outputs": [],
   "source": [
    "df = pd.read_csv('matsuya_gyudon.csv')"
   ]
  },
  {
   "cell_type": "code",
   "execution_count": 34,
   "id": "intended-nation",
   "metadata": {},
   "outputs": [
    {
     "data": {
      "text/html": [
       "<div>\n",
       "<style scoped>\n",
       "    .dataframe tbody tr th:only-of-type {\n",
       "        vertical-align: middle;\n",
       "    }\n",
       "\n",
       "    .dataframe tbody tr th {\n",
       "        vertical-align: top;\n",
       "    }\n",
       "\n",
       "    .dataframe thead th {\n",
       "        text-align: right;\n",
       "    }\n",
       "</style>\n",
       "<table border=\"1\" class=\"dataframe\">\n",
       "  <thead>\n",
       "    <tr style=\"text-align: right;\">\n",
       "      <th></th>\n",
       "      <th>title</th>\n",
       "      <th>price</th>\n",
       "      <th>cal</th>\n",
       "      <th>protain</th>\n",
       "      <th>lipid</th>\n",
       "      <th>carbohydrate</th>\n",
       "      <th>sodium</th>\n",
       "      <th>salt</th>\n",
       "    </tr>\n",
       "  </thead>\n",
       "  <tbody>\n",
       "    <tr>\n",
       "      <th>0</th>\n",
       "      <td>プレミアム牛めし</td>\n",
       "      <td>380</td>\n",
       "      <td>695</td>\n",
       "      <td>18.6</td>\n",
       "      <td>24.0</td>\n",
       "      <td>97.0</td>\n",
       "      <td>1208.0</td>\n",
       "      <td>3.1</td>\n",
       "    </tr>\n",
       "    <tr>\n",
       "      <th>1</th>\n",
       "      <td>ネギたっぷりプレミアム旨辛ネギたま牛めし</td>\n",
       "      <td>490</td>\n",
       "      <td>826</td>\n",
       "      <td>26.2</td>\n",
       "      <td>31.4</td>\n",
       "      <td>105.5</td>\n",
       "      <td>1905.0</td>\n",
       "      <td>4.8</td>\n",
       "    </tr>\n",
       "    <tr>\n",
       "      <th>2</th>\n",
       "      <td>プレミアムおろしポン酢牛めし</td>\n",
       "      <td>480</td>\n",
       "      <td>722</td>\n",
       "      <td>20.0</td>\n",
       "      <td>24.2</td>\n",
       "      <td>102.2</td>\n",
       "      <td>1886.0</td>\n",
       "      <td>4.8</td>\n",
       "    </tr>\n",
       "    <tr>\n",
       "      <th>3</th>\n",
       "      <td>旨辛牛焼ビビン丼</td>\n",
       "      <td>550</td>\n",
       "      <td>826</td>\n",
       "      <td>27.7</td>\n",
       "      <td>31.6</td>\n",
       "      <td>103.5</td>\n",
       "      <td>2063.0</td>\n",
       "      <td>5.2</td>\n",
       "    </tr>\n",
       "    <tr>\n",
       "      <th>4</th>\n",
       "      <td>旨辛牛焼ビビン丼豚汁セット</td>\n",
       "      <td>650</td>\n",
       "      <td>985</td>\n",
       "      <td>36.2</td>\n",
       "      <td>40.8</td>\n",
       "      <td>114.2</td>\n",
       "      <td>2855.0</td>\n",
       "      <td>7.3</td>\n",
       "    </tr>\n",
       "    <tr>\n",
       "      <th>5</th>\n",
       "      <td>キムカル丼</td>\n",
       "      <td>500</td>\n",
       "      <td>796</td>\n",
       "      <td>23.9</td>\n",
       "      <td>28.1</td>\n",
       "      <td>108.0</td>\n",
       "      <td>2172.0</td>\n",
       "      <td>5.5</td>\n",
       "    </tr>\n",
       "    <tr>\n",
       "      <th>6</th>\n",
       "      <td>厚切りネギ塩豚焼肉丼</td>\n",
       "      <td>580</td>\n",
       "      <td>757</td>\n",
       "      <td>32.1</td>\n",
       "      <td>25.2</td>\n",
       "      <td>96.2</td>\n",
       "      <td>2786.0</td>\n",
       "      <td>7.1</td>\n",
       "    </tr>\n",
       "  </tbody>\n",
       "</table>\n",
       "</div>"
      ],
      "text/plain": [
       "                  title  price  cal  protain  lipid  carbohydrate  sodium  \\\n",
       "0              プレミアム牛めし    380  695     18.6   24.0          97.0  1208.0   \n",
       "1  ネギたっぷりプレミアム旨辛ネギたま牛めし    490  826     26.2   31.4         105.5  1905.0   \n",
       "2        プレミアムおろしポン酢牛めし    480  722     20.0   24.2         102.2  1886.0   \n",
       "3              旨辛牛焼ビビン丼    550  826     27.7   31.6         103.5  2063.0   \n",
       "4         旨辛牛焼ビビン丼豚汁セット    650  985     36.2   40.8         114.2  2855.0   \n",
       "5                 キムカル丼    500  796     23.9   28.1         108.0  2172.0   \n",
       "6            厚切りネギ塩豚焼肉丼    580  757     32.1   25.2          96.2  2786.0   \n",
       "\n",
       "   salt  \n",
       "0   3.1  \n",
       "1   4.8  \n",
       "2   4.8  \n",
       "3   5.2  \n",
       "4   7.3  \n",
       "5   5.5  \n",
       "6   7.1  "
      ]
     },
     "execution_count": 34,
     "metadata": {},
     "output_type": "execute_result"
    }
   ],
   "source": [
    "df"
   ]
  },
  {
   "cell_type": "code",
   "execution_count": 49,
   "id": "acknowledged-knife",
   "metadata": {},
   "outputs": [
    {
     "ename": "SyntaxError",
     "evalue": "invalid character in identifier (<ipython-input-49-30c0e764189e>, line 2)",
     "output_type": "error",
     "traceback": [
      "\u001b[0;36m  File \u001b[0;32m\"<ipython-input-49-30c0e764189e>\"\u001b[0;36m, line \u001b[0;32m2\u001b[0m\n\u001b[0;31m    'title':'メニュー',\u001b[0m\n\u001b[0m    ^\u001b[0m\n\u001b[0;31mSyntaxError\u001b[0m\u001b[0;31m:\u001b[0m invalid character in identifier\n"
     ]
    }
   ],
   "source": [
    "df = df.rename(columns={\n",
    "    　　　　　　　　　　　'title':'メニュー',\n",
    "                'price':'価格(税込)',\n",
    "                'cal':'カロリー(kcal)',\n",
    "                'protain':'たんぱく質(g)',\n",
    "                'lipid':'脂質(g)',\n",
    "                'carbohydrate':'炭水化物(g)',\n",
    "                'sodium':'ナトリウム(mg)',\n",
    "                'salt':'食塩相当量(g)'\n",
    "})"
   ]
  },
  {
   "cell_type": "code",
   "execution_count": 51,
   "id": "sophisticated-march",
   "metadata": {
    "scrolled": true
   },
   "outputs": [
    {
     "data": {
      "text/html": [
       "<div>\n",
       "<style scoped>\n",
       "    .dataframe tbody tr th:only-of-type {\n",
       "        vertical-align: middle;\n",
       "    }\n",
       "\n",
       "    .dataframe tbody tr th {\n",
       "        vertical-align: top;\n",
       "    }\n",
       "\n",
       "    .dataframe thead th {\n",
       "        text-align: right;\n",
       "    }\n",
       "</style>\n",
       "<table border=\"1\" class=\"dataframe\">\n",
       "  <thead>\n",
       "    <tr style=\"text-align: right;\">\n",
       "      <th></th>\n",
       "      <th>メニュー</th>\n",
       "      <th>価格(税込)</th>\n",
       "      <th>カロリー(kcal)</th>\n",
       "      <th>たんぱく質(g)</th>\n",
       "      <th>脂質(g)</th>\n",
       "      <th>炭水化物(g)</th>\n",
       "      <th>ナトリウム(mg)</th>\n",
       "      <th>食塩相当量(g)</th>\n",
       "    </tr>\n",
       "  </thead>\n",
       "  <tbody>\n",
       "    <tr>\n",
       "      <th>0</th>\n",
       "      <td>プレミアム牛めし</td>\n",
       "      <td>380</td>\n",
       "      <td>695</td>\n",
       "      <td>18.6</td>\n",
       "      <td>24.0</td>\n",
       "      <td>97.0</td>\n",
       "      <td>1208.0</td>\n",
       "      <td>3.1</td>\n",
       "    </tr>\n",
       "    <tr>\n",
       "      <th>1</th>\n",
       "      <td>ネギたっぷりプレミアム旨辛ネギたま牛めし</td>\n",
       "      <td>490</td>\n",
       "      <td>826</td>\n",
       "      <td>26.2</td>\n",
       "      <td>31.4</td>\n",
       "      <td>105.5</td>\n",
       "      <td>1905.0</td>\n",
       "      <td>4.8</td>\n",
       "    </tr>\n",
       "    <tr>\n",
       "      <th>2</th>\n",
       "      <td>プレミアムおろしポン酢牛めし</td>\n",
       "      <td>480</td>\n",
       "      <td>722</td>\n",
       "      <td>20.0</td>\n",
       "      <td>24.2</td>\n",
       "      <td>102.2</td>\n",
       "      <td>1886.0</td>\n",
       "      <td>4.8</td>\n",
       "    </tr>\n",
       "    <tr>\n",
       "      <th>3</th>\n",
       "      <td>旨辛牛焼ビビン丼</td>\n",
       "      <td>550</td>\n",
       "      <td>826</td>\n",
       "      <td>27.7</td>\n",
       "      <td>31.6</td>\n",
       "      <td>103.5</td>\n",
       "      <td>2063.0</td>\n",
       "      <td>5.2</td>\n",
       "    </tr>\n",
       "    <tr>\n",
       "      <th>4</th>\n",
       "      <td>旨辛牛焼ビビン丼豚汁セット</td>\n",
       "      <td>650</td>\n",
       "      <td>985</td>\n",
       "      <td>36.2</td>\n",
       "      <td>40.8</td>\n",
       "      <td>114.2</td>\n",
       "      <td>2855.0</td>\n",
       "      <td>7.3</td>\n",
       "    </tr>\n",
       "    <tr>\n",
       "      <th>5</th>\n",
       "      <td>キムカル丼</td>\n",
       "      <td>500</td>\n",
       "      <td>796</td>\n",
       "      <td>23.9</td>\n",
       "      <td>28.1</td>\n",
       "      <td>108.0</td>\n",
       "      <td>2172.0</td>\n",
       "      <td>5.5</td>\n",
       "    </tr>\n",
       "    <tr>\n",
       "      <th>6</th>\n",
       "      <td>厚切りネギ塩豚焼肉丼</td>\n",
       "      <td>580</td>\n",
       "      <td>757</td>\n",
       "      <td>32.1</td>\n",
       "      <td>25.2</td>\n",
       "      <td>96.2</td>\n",
       "      <td>2786.0</td>\n",
       "      <td>7.1</td>\n",
       "    </tr>\n",
       "  </tbody>\n",
       "</table>\n",
       "</div>"
      ],
      "text/plain": [
       "                   メニュー  価格(税込)  カロリー(kcal)  たんぱく質(g)  脂質(g)  炭水化物(g)  \\\n",
       "0              プレミアム牛めし     380         695      18.6   24.0     97.0   \n",
       "1  ネギたっぷりプレミアム旨辛ネギたま牛めし     490         826      26.2   31.4    105.5   \n",
       "2        プレミアムおろしポン酢牛めし     480         722      20.0   24.2    102.2   \n",
       "3              旨辛牛焼ビビン丼     550         826      27.7   31.6    103.5   \n",
       "4         旨辛牛焼ビビン丼豚汁セット     650         985      36.2   40.8    114.2   \n",
       "5                 キムカル丼     500         796      23.9   28.1    108.0   \n",
       "6            厚切りネギ塩豚焼肉丼     580         757      32.1   25.2     96.2   \n",
       "\n",
       "   ナトリウム(mg)  食塩相当量(g)  \n",
       "0     1208.0       3.1  \n",
       "1     1905.0       4.8  \n",
       "2     1886.0       4.8  \n",
       "3     2063.0       5.2  \n",
       "4     2855.0       7.3  \n",
       "5     2172.0       5.5  \n",
       "6     2786.0       7.1  "
      ]
     },
     "execution_count": 51,
     "metadata": {},
     "output_type": "execute_result"
    }
   ],
   "source": [
    "df"
   ]
  },
  {
   "cell_type": "code",
   "execution_count": 52,
   "id": "handy-blank",
   "metadata": {},
   "outputs": [],
   "source": [
    "import matplotlib.pyplot as plt"
   ]
  },
  {
   "cell_type": "code",
   "execution_count": 67,
   "id": "cathedral-mechanics",
   "metadata": {},
   "outputs": [],
   "source": [
    "df = df.sort_values(by='価格(税込)')"
   ]
  },
  {
   "cell_type": "code",
   "execution_count": 113,
   "id": "standing-picking",
   "metadata": {
    "scrolled": true
   },
   "outputs": [
    {
     "data": {
      "image/png": "[encoded data removed]",
      "text/plain": [
       "<Figure size 432x288 with 1 Axes>"
      ]
     },
     "execution_count": 113,
     "metadata": {},
     "output_type": "execute_result"
    },
    {
     "data": {
      "image/png": "[encoded data removed]",
      "text/plain": [
       "<Figure size 432x288 with 1 Axes>"
      ]
     },
     "metadata": {
      "needs_background": "light"
     },
     "output_type": "display_data"
    }
   ],
   "source": [
    "df_plot = df.plot(title='price-cal',x=df.columns[1],y=df.columns[2],legend=False)\n",
    "df_plot.set_xlabel('price')\n",
    "plt.ylabel(\"cal\",size='12')\n",
    "ax = plt.subplots\n",
    "df_plot.get_figure()"
   ]
  },
  {
   "cell_type": "code",
   "execution_count": 114,
   "id": "balanced-process",
   "metadata": {},
   "outputs": [
    {
     "data": {
      "text/plain": [
       "<Figure size 432x288 with 0 Axes>"
      ]
     },
     "metadata": {},
     "output_type": "display_data"
    }
   ],
   "source": [
    "fig = plt.figure()"
   ]
  },
  {
   "cell_type": "code",
   "execution_count": 115,
   "id": "aggregate-argument",
   "metadata": {},
   "outputs": [],
   "source": [
    "fig.savefig(\"img.png\")"
   ]
  },
  {
   "cell_type": "code",
   "execution_count": null,
   "id": "exotic-things",
   "metadata": {},
   "outputs": [],
   "source": []
  }
 ],
 "metadata": {
  "kernelspec": {
   "display_name": "Python 3",
   "language": "python",
   "name": "python3"
  },
  "language_info": {
   "codemirror_mode": {
    "name": "ipython",
    "version": 3
   },
   "file_extension": ".py",
   "mimetype": "text/x-python",
   "name": "python",
   "nbconvert_exporter": "python",
   "pygments_lexer": "ipython3",
   "version": "3.8.5"
  }
 },
 "nbformat": 4,
 "nbformat_minor": 5
}
