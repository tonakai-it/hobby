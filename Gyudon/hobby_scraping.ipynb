{
 "cells": [
  {
   "cell_type": "code",
   "execution_count": 7,
   "metadata": {},
   "outputs": [],
   "source": [
    "import requests"
   ]
  },
  {
   "cell_type": "code",
   "execution_count": 8,
   "metadata": {},
   "outputs": [],
   "source": [
    "from bs4 import BeautifulSoup"
   ]
  },
  {
   "cell_type": "code",
   "execution_count": 9,
   "metadata": {},
   "outputs": [],
   "source": [
    "import re"
   ]
  },
  {
   "cell_type": "code",
   "execution_count": 10,
   "metadata": {},
   "outputs": [],
   "source": [
    "import pandas as pd"
   ]
  },
  {
   "cell_type": "code",
   "execution_count": 11,
   "metadata": {},
   "outputs": [],
   "source": [
    "url = \"https://www.matsuyafoods.co.jp/matsuya/menu/pre_gyuu/pre_gyu_hp_z.html\""
   ]
  },
  {
   "cell_type": "code",
   "execution_count": 12,
   "metadata": {},
   "outputs": [],
   "source": [
    "def scrapin(url):\n",
    "    response = requests.get(url)\n",
    "    response.encoding = response.apparent_encoding # 呪文\n",
    "    soup = BeautifulSoup(response.text, 'html.parser')\n",
    "    title = soup.find('h1', {'class':'ttl'}).text\n",
    "    info = soup.select('h3:contains(\"並盛\") ~ p')[0].get_text()\n",
    "    price = soup.select('p:contains(\"並盛\") ~ p')[0].get_text().replace('円(税込)','')\n",
    "    price = int(price)\n",
    "    cal = int(re.findall('カロリー／(.*)kcal', info)[0])\n",
    "    protain = float(re.findall('たんぱく質／(.*?)g', info)[0])\n",
    "    lipid = float(re.findall('脂質／(.*?)g', info)[0])\n",
    "    carbohydrate =  float(re.findall('炭水化物／(.*?)g', info)[0])\n",
    "    sodium = float(re.findall('ナトリウム／(.*?)mg', info)[0])\n",
    "    salt = float(re.findall('食塩相当量／(.*?)g',info)[0])\n",
    "    return {'title' :title,'price': price,'cal': cal,'protain': protain,'lipid' :lipid,'carbohydrate': carbohydrate,'sodium': sodium,'salt': salt}"
   ]
  },
  {
   "cell_type": "code",
   "execution_count": 14,
   "metadata": {},
   "outputs": [],
   "source": [
    "response = requests.get(url)"
   ]
  },
  {
   "cell_type": "code",
   "execution_count": 15,
   "metadata": {},
   "outputs": [],
   "source": [
    "response.encoding = response.apparent_encoding # 呪文"
   ]
  },
  {
   "cell_type": "code",
   "execution_count": 16,
   "metadata": {},
   "outputs": [],
   "source": [
    "soup = BeautifulSoup(response.text, 'html.parser')"
   ]
  },
  {
   "cell_type": "code",
   "execution_count": 17,
   "metadata": {},
   "outputs": [],
   "source": [
    "title = soup.find('h1', {'class':'ttl'}).text"
   ]
  },
  {
   "cell_type": "code",
   "execution_count": 18,
   "metadata": {},
   "outputs": [],
   "source": [
    "info = soup.select('h3:contains(\"並盛\") ~ p')[0].get_text()"
   ]
  },
  {
   "cell_type": "code",
   "execution_count": 19,
   "metadata": {},
   "outputs": [
    {
     "data": {
      "text/plain": [
       "'カロリー／695kcalたんぱく質／18.6g脂質／24g炭水化物／97gナトリウム／1208mg食塩相当量／3.1g'"
      ]
     },
     "execution_count": 19,
     "metadata": {},
     "output_type": "execute_result"
    }
   ],
   "source": [
    "info"
   ]
  },
  {
   "cell_type": "code",
   "execution_count": 20,
   "metadata": {},
   "outputs": [],
   "source": [
    "price = soup.select('p:contains(\"並盛\") ~ p')[0].get_text().replace('円(税込)','')"
   ]
  },
  {
   "cell_type": "code",
   "execution_count": 21,
   "metadata": {},
   "outputs": [],
   "source": [
    "price = int(price)"
   ]
  },
  {
   "cell_type": "code",
   "execution_count": 22,
   "metadata": {},
   "outputs": [
    {
     "data": {
      "text/plain": [
       "380"
      ]
     },
     "execution_count": 22,
     "metadata": {},
     "output_type": "execute_result"
    }
   ],
   "source": [
    "price"
   ]
  },
  {
   "cell_type": "code",
   "execution_count": 23,
   "metadata": {},
   "outputs": [],
   "source": [
    "cal = int(re.findall('カロリー／(.*)kcal', info)[0])"
   ]
  },
  {
   "cell_type": "code",
   "execution_count": 24,
   "metadata": {},
   "outputs": [
    {
     "data": {
      "text/plain": [
       "695"
      ]
     },
     "execution_count": 24,
     "metadata": {},
     "output_type": "execute_result"
    }
   ],
   "source": [
    "cal"
   ]
  },
  {
   "cell_type": "code",
   "execution_count": 25,
   "metadata": {},
   "outputs": [],
   "source": [
    "protain = float(re.findall('たんぱく質／(.*?)g', info)[0])"
   ]
  },
  {
   "cell_type": "code",
   "execution_count": 26,
   "metadata": {},
   "outputs": [
    {
     "data": {
      "text/plain": [
       "18.6"
      ]
     },
     "execution_count": 26,
     "metadata": {},
     "output_type": "execute_result"
    }
   ],
   "source": [
    "protain"
   ]
  },
  {
   "cell_type": "code",
   "execution_count": 27,
   "metadata": {},
   "outputs": [],
   "source": [
    "lipid = float(re.findall('脂質／(.*?)g', info)[0])"
   ]
  },
  {
   "cell_type": "code",
   "execution_count": 28,
   "metadata": {},
   "outputs": [
    {
     "data": {
      "text/plain": [
       "24.0"
      ]
     },
     "execution_count": 28,
     "metadata": {},
     "output_type": "execute_result"
    }
   ],
   "source": [
    "lipid"
   ]
  },
  {
   "cell_type": "code",
   "execution_count": 29,
   "metadata": {},
   "outputs": [],
   "source": [
    "carbohydrate =  float(re.findall('炭水化物／(.*?)g', info)[0])"
   ]
  },
  {
   "cell_type": "code",
   "execution_count": 30,
   "metadata": {},
   "outputs": [
    {
     "data": {
      "text/plain": [
       "97.0"
      ]
     },
     "execution_count": 30,
     "metadata": {},
     "output_type": "execute_result"
    }
   ],
   "source": [
    "carbohydrate"
   ]
  },
  {
   "cell_type": "code",
   "execution_count": 31,
   "metadata": {},
   "outputs": [],
   "source": [
    "sodium = float(re.findall('ナトリウム／(.*?)mg', info)[0])"
   ]
  },
  {
   "cell_type": "code",
   "execution_count": 32,
   "metadata": {},
   "outputs": [
    {
     "data": {
      "text/plain": [
       "1208.0"
      ]
     },
     "execution_count": 32,
     "metadata": {},
     "output_type": "execute_result"
    }
   ],
   "source": [
    "sodium"
   ]
  },
  {
   "cell_type": "code",
   "execution_count": 33,
   "metadata": {},
   "outputs": [],
   "source": [
    "salt = float(re.findall('食塩相当量／(.*?)g',info)[0])"
   ]
  },
  {
   "cell_type": "code",
   "execution_count": 34,
   "metadata": {},
   "outputs": [
    {
     "data": {
      "text/plain": [
       "3.1"
      ]
     },
     "execution_count": 34,
     "metadata": {},
     "output_type": "execute_result"
    }
   ],
   "source": [
    "salt"
   ]
  },
  {
   "cell_type": "code",
   "execution_count": 51,
   "metadata": {},
   "outputs": [],
   "source": [
    "data = []"
   ]
  },
  {
   "cell_type": "code",
   "execution_count": 52,
   "metadata": {},
   "outputs": [],
   "source": [
    "data.append(scrapin(url))"
   ]
  },
  {
   "cell_type": "code",
   "execution_count": 53,
   "metadata": {},
   "outputs": [],
   "source": [
    "data.append(scrapin(\"https://www.matsuyafoods.co.jp/matsuya/menu/pre_gyuu/pre_gyu_negitama_hp_z.html\"))"
   ]
  },
  {
   "cell_type": "code",
   "execution_count": 54,
   "metadata": {},
   "outputs": [],
   "source": [
    "data.append(scrapin(\"https://www.matsuyafoods.co.jp/matsuya/menu/pre_gyuu/pre_gyuu_oroshi_hp_z.html\"))"
   ]
  },
  {
   "cell_type": "code",
   "execution_count": 55,
   "metadata": {},
   "outputs": [],
   "source": [
    "data.append(scrapin(\"https://www.matsuyafoods.co.jp/matsuya/menu/don/don_gyuyaki_bibin_hp_210302.html\"))"
   ]
  },
  {
   "cell_type": "code",
   "execution_count": 56,
   "metadata": {},
   "outputs": [],
   "source": [
    "data.append(scrapin(\"https://www.matsuyafoods.co.jp/matsuya/menu/don/don_gyuyaki_bibin_ton_hp_210302.html\"))"
   ]
  },
  {
   "cell_type": "code",
   "execution_count": 57,
   "metadata": {},
   "outputs": [],
   "source": [
    "data.append(scrapin(\"https://www.matsuyafoods.co.jp/matsuya/menu/don/don_kimukaru_hp_z.html\"))"
   ]
  },
  {
   "cell_type": "code",
   "execution_count": 72,
   "metadata": {},
   "outputs": [],
   "source": [
    "negishio = {'title':'厚切りネギ塩豚焼肉丼','price':int(580),'cal':int(757),'protain':float(32.1),'lipid':float(25.2),'carbohydrate':float(96.2),'sodium':2786,'salt':float(7.1)}"
   ]
  },
  {
   "cell_type": "code",
   "execution_count": 73,
   "metadata": {},
   "outputs": [],
   "source": [
    "data.append(negishio)"
   ]
  },
  {
   "cell_type": "code",
   "execution_count": 71,
   "metadata": {},
   "outputs": [
    {
     "data": {
      "text/plain": [
       "{'title': '厚切りネギ塩豚焼肉丼',\n",
       " 'price': 580,\n",
       " 'cal': 757,\n",
       " 'protain': 32.1,\n",
       " 'lipid': 25.2,\n",
       " 'carbohydrate': 96.2,\n",
       " 'sadium': 2786,\n",
       " 'salt': 7.1}"
      ]
     },
     "execution_count": 71,
     "metadata": {},
     "output_type": "execute_result"
    }
   ],
   "source": [
    "data.pop(-1)"
   ]
  },
  {
   "cell_type": "code",
   "execution_count": 74,
   "metadata": {},
   "outputs": [],
   "source": [
    "df = pd.DataFrame(data)"
   ]
  },
  {
   "cell_type": "code",
   "execution_count": 75,
   "metadata": {},
   "outputs": [
    {
     "data": {
      "text/html": [
       "<div>\n",
       "<style scoped>\n",
       "    .dataframe tbody tr th:only-of-type {\n",
       "        vertical-align: middle;\n",
       "    }\n",
       "\n",
       "    .dataframe tbody tr th {\n",
       "        vertical-align: top;\n",
       "    }\n",
       "\n",
       "    .dataframe thead th {\n",
       "        text-align: right;\n",
       "    }\n",
       "</style>\n",
       "<table border=\"1\" class=\"dataframe\">\n",
       "  <thead>\n",
       "    <tr style=\"text-align: right;\">\n",
       "      <th></th>\n",
       "      <th>title</th>\n",
       "      <th>price</th>\n",
       "      <th>cal</th>\n",
       "      <th>protain</th>\n",
       "      <th>lipid</th>\n",
       "      <th>carbohydrate</th>\n",
       "      <th>sodium</th>\n",
       "      <th>salt</th>\n",
       "    </tr>\n",
       "  </thead>\n",
       "  <tbody>\n",
       "    <tr>\n",
       "      <th>0</th>\n",
       "      <td>プレミアム牛めし</td>\n",
       "      <td>380</td>\n",
       "      <td>695</td>\n",
       "      <td>18.6</td>\n",
       "      <td>24.0</td>\n",
       "      <td>97.0</td>\n",
       "      <td>1208.0</td>\n",
       "      <td>3.1</td>\n",
       "    </tr>\n",
       "    <tr>\n",
       "      <th>1</th>\n",
       "      <td>ネギたっぷりプレミアム旨辛ネギたま牛めし</td>\n",
       "      <td>490</td>\n",
       "      <td>826</td>\n",
       "      <td>26.2</td>\n",
       "      <td>31.4</td>\n",
       "      <td>105.5</td>\n",
       "      <td>1905.0</td>\n",
       "      <td>4.8</td>\n",
       "    </tr>\n",
       "    <tr>\n",
       "      <th>2</th>\n",
       "      <td>プレミアムおろしポン酢牛めし</td>\n",
       "      <td>480</td>\n",
       "      <td>722</td>\n",
       "      <td>20.0</td>\n",
       "      <td>24.2</td>\n",
       "      <td>102.2</td>\n",
       "      <td>1886.0</td>\n",
       "      <td>4.8</td>\n",
       "    </tr>\n",
       "    <tr>\n",
       "      <th>3</th>\n",
       "      <td>旨辛牛焼ビビン丼</td>\n",
       "      <td>550</td>\n",
       "      <td>826</td>\n",
       "      <td>27.7</td>\n",
       "      <td>31.6</td>\n",
       "      <td>103.5</td>\n",
       "      <td>2063.0</td>\n",
       "      <td>5.2</td>\n",
       "    </tr>\n",
       "    <tr>\n",
       "      <th>4</th>\n",
       "      <td>旨辛牛焼ビビン丼豚汁セット</td>\n",
       "      <td>650</td>\n",
       "      <td>985</td>\n",
       "      <td>36.2</td>\n",
       "      <td>40.8</td>\n",
       "      <td>114.2</td>\n",
       "      <td>2855.0</td>\n",
       "      <td>7.3</td>\n",
       "    </tr>\n",
       "    <tr>\n",
       "      <th>5</th>\n",
       "      <td>キムカル丼</td>\n",
       "      <td>500</td>\n",
       "      <td>796</td>\n",
       "      <td>23.9</td>\n",
       "      <td>28.1</td>\n",
       "      <td>108.0</td>\n",
       "      <td>2172.0</td>\n",
       "      <td>5.5</td>\n",
       "    </tr>\n",
       "    <tr>\n",
       "      <th>6</th>\n",
       "      <td>厚切りネギ塩豚焼肉丼</td>\n",
       "      <td>580</td>\n",
       "      <td>757</td>\n",
       "      <td>32.1</td>\n",
       "      <td>25.2</td>\n",
       "      <td>96.2</td>\n",
       "      <td>2786.0</td>\n",
       "      <td>7.1</td>\n",
       "    </tr>\n",
       "  </tbody>\n",
       "</table>\n",
       "</div>"
      ],
      "text/plain": [
       "                  title  price  cal  protain  lipid  carbohydrate  sodium  \\\n",
       "0              プレミアム牛めし    380  695     18.6   24.0          97.0  1208.0   \n",
       "1  ネギたっぷりプレミアム旨辛ネギたま牛めし    490  826     26.2   31.4         105.5  1905.0   \n",
       "2        プレミアムおろしポン酢牛めし    480  722     20.0   24.2         102.2  1886.0   \n",
       "3              旨辛牛焼ビビン丼    550  826     27.7   31.6         103.5  2063.0   \n",
       "4         旨辛牛焼ビビン丼豚汁セット    650  985     36.2   40.8         114.2  2855.0   \n",
       "5                 キムカル丼    500  796     23.9   28.1         108.0  2172.0   \n",
       "6            厚切りネギ塩豚焼肉丼    580  757     32.1   25.2          96.2  2786.0   \n",
       "\n",
       "   salt  \n",
       "0   3.1  \n",
       "1   4.8  \n",
       "2   4.8  \n",
       "3   5.2  \n",
       "4   7.3  \n",
       "5   5.5  \n",
       "6   7.1  "
      ]
     },
     "execution_count": 75,
     "metadata": {},
     "output_type": "execute_result"
    }
   ],
   "source": [
    "df"
   ]
  },
  {
   "cell_type": "code",
   "execution_count": 78,
   "metadata": {},
   "outputs": [],
   "source": [
    "df.to_csv('matsuya_gyudon.csv',index=False)"
   ]
  }
 ],
 "metadata": {
  "kernelspec": {
   "display_name": "Python 3",
   "language": "python",
   "name": "python3"
  },
  "language_info": {
   "codemirror_mode": {
    "name": "ipython",
    "version": 3
   },
   "file_extension": ".py",
   "mimetype": "text/x-python",
   "name": "python",
   "nbconvert_exporter": "python",
   "pygments_lexer": "ipython3",
   "version": "3.8.5"
  }
 },
 "nbformat": 4,
 "nbformat_minor": 4
}
